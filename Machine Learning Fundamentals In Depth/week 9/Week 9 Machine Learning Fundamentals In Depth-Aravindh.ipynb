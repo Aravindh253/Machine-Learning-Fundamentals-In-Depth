{
 "cells": [
  {
   "cell_type": "markdown",
   "id": "4842dbac",
   "metadata": {},
   "source": [
    "1.What is a Neural Network?\n",
    " "
   ]
  },
  {
   "cell_type": "markdown",
   "id": "458d9acc",
   "metadata": {},
   "source": [
    "Neutral Network:-\n",
    "    \n",
    "In information technology (IT), an artificial neural network (ANN) is a system of hardware and/or software patterned after the operation of neurons in the human brain. ANNs -- also called, simply, neural networks -- are a variety of deep learning technology, which also falls under the umbrella of artificial intelligence, or AI.\n",
    "\n",
    "Commercial applications of these technologies generally focus on solving complex signal processing or pattern recognition problems. Examples of significant commercial applications since 2000 include handwriting recognition for check processing, speech-to-text transcription, oil-exploration data analysis, weather prediction and facial recognition.\n",
    "\n",
    "The history of artificial neural networks goes back to the early days of computing. In 1943, mathematicians Warren McCulloch and Walter Pitts built a circuitry system intended to approximate the functioning of the human brain that ran simple algorithms.\n",
    "\n",
    "It wasnt until around 2010 that research picked up again. The big data trend, where companies amass vast troves of data, and parallel computing gave data scientists the training data and computing resources needed to run complex artificial neural networks. In 2012, a neural network was able to beat human performance at an image recognition task as part of the ImageNet competition. Since then, interest in artificial neural networks as has soared and the technology continues to improve.\n",
    "\n",
    "Neural networks have several use cases across many industries, such as the following:\n",
    "\n",
    "Medical diagnosis by medical image classification\n",
    "Targeted marketing by social network filtering and behavioral data analysis\n",
    "Financial predictions by processing historical data of financial instruments\n",
    "Electrical load and energy demand forecasting\n",
    "Process and quality control\n",
    "Chemical compound identification\n",
    "We give four of the important applications of neural networks below.\n",
    "\n",
    "Computer vision\n",
    "Computer vision is the ability of computers to extract information and insights from images and videos. With neural networks, computers can distinguish and recognize images similar to humans. Computer vision has several applications, such as the following:\n",
    "\n",
    "Visual recognition in self-driving cars so they can recognize road signs and other road users\n",
    "Content moderation to automatically remove unsafe or inappropriate content from image and video archives\n",
    "Facial recognition to identify faces and recognize attributes like open eyes, glasses, and facial hair\n",
    "Image labeling to identify brand logos, clothing, safety gear, and other image details\n",
    "Speech recognition\n",
    "Neural networks can analyze human speech despite varying speech patterns, pitch, tone, language, and accent. Virtual assistants like Amazon Alexa and automatic transcription software use speech recognition to do tasks like these:\n",
    "\n",
    "Assist call center agents and automatically classify calls\n",
    "Convert clinical conversations into documentation in real time\n",
    "Accurately subtitle videos and meeting recordings for wider content reach\n",
    "Natural language processing\n",
    "Natural language processing (NLP) is the ability to process natural, human-created text. Neural networks help computers gather insights and meaning from text data and documents. NLP has several use cases, including in these functions:\n",
    "\n",
    "Automated virtual agents and chatbots\n",
    "Automatic organization and classification of written data\n",
    "Business intelligence analysis of long-form documents like emails and forms\n",
    "Indexing of key phrases that indicate sentiment, like positive and negative comments on social media\n",
    "Document summarization and article generation for a given topic\n",
    "Recommendation engines\n",
    "Neural networks can track user activity to develop personalized recommendations. They can also analyze all user behavior and discover new products or services that interest a specific user. For example, Curalate, a Philadelphia-based startup, helps brands convert social media posts into sales. Brands use Curalate’s intelligent product tagging (IPT) service to automate the collection and curation of user-generated social content. IPT uses neural networks to automatically find and recommend products relevant to the user’s social media activity. Consumers don't have to hunt through online catalogs to find a specific product from a social media image. Instead, they can use Curalate’s auto product tagging to purchase the product with ease.\n",
    "\n"
   ]
  },
  {
   "cell_type": "markdown",
   "id": "0477273b",
   "metadata": {},
   "source": [
    "2.What is deep learning?\n",
    " "
   ]
  },
  {
   "cell_type": "markdown",
   "id": "02214a12",
   "metadata": {},
   "source": [
    "Deep learning is a machine learning technique that teaches computers to do what comes naturally to humans: learn by example. Deep learning is a key technology behind driverless cars, enabling them to recognize a stop sign, or to distinguish a pedestrian from a lamppost. It is the key to voice control in consumer devices like phones, tablets, TVs, and hands-free speakers. Deep learning is getting lots of attention lately and for good reason. It’s achieving results that were not possible before.\n",
    "\n",
    "In deep learning, a computer model learns to perform classification tasks directly from images, text, or sound. Deep learning models can achieve state-of-the-art accuracy, sometimes exceeding human-level performance. Models are trained by using a large set of labeled data and neural network architectures that contain many layers.\n",
    "\n",
    "Deep Learning is a subfield of machine learning concerned with algorithms inspired by the structure and function of the brain called artificial neural networks.\n",
    "\n",
    "If you are just starting out in the field of deep learning or you had some experience with neural networks some time ago, you may be confused. I know I was confused initially and so were many of my colleagues and friends who learned and used neural networks in the 1990s and early 2000s.\n",
    "\n",
    "The leaders and experts in the field have ideas of what deep learning is and these specific and nuanced perspectives shed a lot of light on what deep learning is all about.\n"
   ]
  },
  {
   "cell_type": "markdown",
   "id": "b1a47e44",
   "metadata": {},
   "source": [
    "3.What is the role of the activation function?\n"
   ]
  },
  {
   "cell_type": "markdown",
   "id": "e7ea5c34",
   "metadata": {},
   "source": [
    "Simply put, an activation function is a function that is added into an artificial neural network in order to help \n",
    "the network learn complex patterns in the data. When comparing with a neuron-based model that is in our brains, the \n",
    "activation function is at the end deciding what is to be fired to the next neuron"
   ]
  },
  {
   "cell_type": "markdown",
   "id": "a4acb7e4",
   "metadata": {},
   "source": [
    "4.What are the different types of activation functions?\n"
   ]
  },
  {
   "cell_type": "markdown",
   "id": "564010a0",
   "metadata": {},
   "source": [
    "Types of Activation Functions :\n",
    "    \n",
    "1. Sigmoid Function \n",
    "2. Hyperbolic Tangent Function (Tanh) \n",
    "3. Softmax Function \n",
    "4. Softsign Function\n",
    "5. Rectified Linear Unit (ReLU) Function \n",
    "6. Exponential Linear Units (ELUs) Function\n",
    "7.Binary Step Function\n",
    "8.Linear Function\n",
    "9.Leaky ReLU,Parameterised ReLU \n"
   ]
  },
  {
   "cell_type": "markdown",
   "id": "542adeb5",
   "metadata": {},
   "source": [
    "5.What do you understand by backpropagation?\n"
   ]
  },
  {
   "cell_type": "markdown",
   "id": "429c4a8d",
   "metadata": {},
   "source": [
    "Backpropagation, or backward propagation of errors, is an algorithm that is designed to test for errors working \n",
    "back from output nodes to input nodes. It is an important mathematical tool for improving the accuracy of predictions\n",
    "in data mining and machine learning.\n",
    "\n",
    "Backpropagation uses a methodology called chain rule to improve outputs. Basically, after each forward pass through a network, the algorithm performs a backward pass to adjust the model’s weights.\n",
    "An important goal of backpropagation is to give data scientists insight into how changing a weight function will change loss functions and the overall behaviour of the neural network. The term is sometimes used as a synonym for \"error correction.\"\n"
   ]
  },
  {
   "cell_type": "code",
   "execution_count": null,
   "id": "e1cf69e5",
   "metadata": {},
   "outputs": [],
   "source": []
  }
 ],
 "metadata": {
  "kernelspec": {
   "display_name": "Python 3",
   "language": "python",
   "name": "python3"
  },
  "language_info": {
   "codemirror_mode": {
    "name": "ipython",
    "version": 3
   },
   "file_extension": ".py",
   "mimetype": "text/x-python",
   "name": "python",
   "nbconvert_exporter": "python",
   "pygments_lexer": "ipython3",
   "version": "3.8.8"
  }
 },
 "nbformat": 4,
 "nbformat_minor": 5
}
